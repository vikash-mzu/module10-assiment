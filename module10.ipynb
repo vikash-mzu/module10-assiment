{
 "cells": [
  {
   "cell_type": "markdown",
   "id": "5c0c87d6-71d1-4efe-884d-b3a2b72250c8",
   "metadata": {},
   "source": [
    "Q1. What is an Exception in python? Write the difference between Exceptions and Syntax errors."
   ]
  },
  {
   "cell_type": "code",
   "execution_count": 4,
   "id": "5ca2b002-586c-44cc-9e76-d502c952dcfe",
   "metadata": {},
   "outputs": [
    {
     "name": "stdout",
     "output_type": "stream",
     "text": [
      "This is a syntax error\n"
     ]
    },
    {
     "ename": "ZeroDivisionError",
     "evalue": "division by zero",
     "output_type": "error",
     "traceback": [
      "\u001b[1;31m---------------------------------------------------------------------------\u001b[0m",
      "\u001b[1;31mZeroDivisionError\u001b[0m                         Traceback (most recent call last)",
      "Cell \u001b[1;32mIn[4], line 14\u001b[0m\n\u001b[0;32m     11\u001b[0m     \u001b[38;5;28mprint\u001b[39m(\u001b[38;5;124m\"\u001b[39m\u001b[38;5;124mThis is a syntax error\u001b[39m\u001b[38;5;124m\"\u001b[39m)  \u001b[38;5;66;03m# Missing colon after if\u001b[39;00m\n\u001b[0;32m     13\u001b[0m \u001b[38;5;66;03m# Exception\u001b[39;00m\n\u001b[1;32m---> 14\u001b[0m x \u001b[38;5;241m=\u001b[39m \u001b[38;5;241m10\u001b[39m \u001b[38;5;241m/\u001b[39m \u001b[38;5;241m0\u001b[39m\n",
      "\u001b[1;31mZeroDivisionError\u001b[0m: division by zero"
     ]
    }
   ],
   "source": [
    "'''\n",
    "An exception is an event that occurs during the execution of a program and disrupts the normal flow of the program. Exceptions occur when Python runs into an error during runtime, such as dividing by zero, attempting to access a non-existent file, or performing an invalid operation.\n",
    "\n",
    "Difference between Exceptions and Syntax Errors:\n",
    "\n",
    "Exceptions: These are errors that occur during runtime (after the program has started executing). They arise when Python encounters situations it can't handle, like dividing by zero.\n",
    "Syntax Errors: These are errors that occur when the syntax of the code is incorrect. They are detected by the Python interpreter before the program is run\n",
    "'''\n",
    "# Syntax Error\n",
    "if True:\n",
    "    print(\"This is a syntax error\")  # Missing colon after if\n",
    "\n",
    "# Exception\n",
    "x = 10 / 0  # Division by zero, which causes an exception at runtime\n"
   ]
  },
  {
   "cell_type": "markdown",
   "id": "62edf8a4-62e7-4f38-8bf7-fcb8c2628c85",
   "metadata": {},
   "source": [
    "Q2. What happens when an exception is not handled? Explain with an example."
   ]
  },
  {
   "cell_type": "code",
   "execution_count": 7,
   "id": "f9cd12e5-bc11-45f4-b044-27016d51b35d",
   "metadata": {},
   "outputs": [
    {
     "ename": "ZeroDivisionError",
     "evalue": "division by zero",
     "output_type": "error",
     "traceback": [
      "\u001b[1;31m---------------------------------------------------------------------------\u001b[0m",
      "\u001b[1;31mZeroDivisionError\u001b[0m                         Traceback (most recent call last)",
      "Cell \u001b[1;32mIn[7], line 9\u001b[0m\n\u001b[0;32m      6\u001b[0m \u001b[38;5;28;01mdef\u001b[39;00m \u001b[38;5;21mdivide\u001b[39m(a, b):\n\u001b[0;32m      7\u001b[0m     \u001b[38;5;28;01mreturn\u001b[39;00m a \u001b[38;5;241m/\u001b[39m b\n\u001b[1;32m----> 9\u001b[0m result \u001b[38;5;241m=\u001b[39m divide(\u001b[38;5;241m10\u001b[39m, \u001b[38;5;241m0\u001b[39m)  \u001b[38;5;66;03m# Division by zero causes a ZeroDivisionError\u001b[39;00m\n\u001b[0;32m     10\u001b[0m \u001b[38;5;28mprint\u001b[39m(\u001b[38;5;124m\"\u001b[39m\u001b[38;5;124mThis will not be printed\u001b[39m\u001b[38;5;124m\"\u001b[39m)\n",
      "Cell \u001b[1;32mIn[7], line 7\u001b[0m, in \u001b[0;36mdivide\u001b[1;34m(a, b)\u001b[0m\n\u001b[0;32m      6\u001b[0m \u001b[38;5;28;01mdef\u001b[39;00m \u001b[38;5;21mdivide\u001b[39m(a, b):\n\u001b[1;32m----> 7\u001b[0m     \u001b[38;5;28;01mreturn\u001b[39;00m a \u001b[38;5;241m/\u001b[39m b\n",
      "\u001b[1;31mZeroDivisionError\u001b[0m: division by zero"
     ]
    }
   ],
   "source": [
    "'''\n",
    "When an exception is not handled, the program terminates abruptly, and an error message is printed, known as a traceback.\n",
    "This message shows the line number where the exception occurred and the type of exception.\n",
    "'''\n",
    "# Example without handling an exception\n",
    "def divide(a, b):\n",
    "    return a / b\n",
    "\n",
    "result = divide(10, 0)  # Division by zero causes a ZeroDivisionError\n",
    "print(\"This will not be printed\")\n",
    "\n",
    "# Output:\n",
    "# Traceback (most recent call last):\n",
    "#   File \"<stdin>\", line 1, in <module>\n",
    "# ZeroDivisionError: division by zero\n"
   ]
  },
  {
   "cell_type": "markdown",
   "id": "4d03c9d5-e148-42bd-92ac-da267a38acdb",
   "metadata": {},
   "source": [
    "Q3. Which Python statements are used to catch and handle exceptions? Explain with an example."
   ]
  },
  {
   "cell_type": "code",
   "execution_count": 10,
   "id": "730ceeb4-3259-456f-b2af-c4d198950e59",
   "metadata": {},
   "outputs": [
    {
     "name": "stdout",
     "output_type": "stream",
     "text": [
      "Cannot divide by zero!\n"
     ]
    }
   ],
   "source": [
    "'''\n",
    "Python uses the try-except block to catch and handle exceptions.\n",
    "The code that might cause an exception is placed inside the try block, and the error handling is done in the except block.\n",
    "'''\n",
    "try:\n",
    "    result = 10 / 0\n",
    "except ZeroDivisionError:\n",
    "    print(\"Cannot divide by zero!\")\n",
    "\n",
    "# Output: Cannot divide by zero!\n"
   ]
  },
  {
   "cell_type": "markdown",
   "id": "67916c03-74f7-4bbc-a90e-20ab1056f5a4",
   "metadata": {},
   "source": [
    "Q4. Explain with an example:"
   ]
  },
  {
   "cell_type": "code",
   "execution_count": 13,
   "id": "26bf8cbd-d5e3-47fb-83fc-f1635118322f",
   "metadata": {},
   "outputs": [
    {
     "name": "stdout",
     "output_type": "stream",
     "text": [
      "Division successful: 5.0\n",
      "Execution finished\n",
      "Cannot divide by zero!\n",
      "Execution finished\n"
     ]
    },
    {
     "ename": "ZeroDivisionError",
     "evalue": "division by zero",
     "output_type": "error",
     "traceback": [
      "\u001b[1;31m---------------------------------------------------------------------------\u001b[0m",
      "\u001b[1;31mZeroDivisionError\u001b[0m                         Traceback (most recent call last)",
      "Cell \u001b[1;32mIn[13], line 26\u001b[0m\n\u001b[0;32m     24\u001b[0m \u001b[38;5;66;03m# Test cases\u001b[39;00m\n\u001b[0;32m     25\u001b[0m divide(\u001b[38;5;241m10\u001b[39m, \u001b[38;5;241m2\u001b[39m)  \u001b[38;5;66;03m# Will go through else block\u001b[39;00m\n\u001b[1;32m---> 26\u001b[0m divide(\u001b[38;5;241m10\u001b[39m, \u001b[38;5;241m0\u001b[39m)\n",
      "Cell \u001b[1;32mIn[13], line 15\u001b[0m, in \u001b[0;36mdivide\u001b[1;34m(a, b)\u001b[0m\n\u001b[0;32m     13\u001b[0m \u001b[38;5;28;01mdef\u001b[39;00m \u001b[38;5;21mdivide\u001b[39m(a, b):\n\u001b[0;32m     14\u001b[0m     \u001b[38;5;28;01mtry\u001b[39;00m:\n\u001b[1;32m---> 15\u001b[0m         result \u001b[38;5;241m=\u001b[39m a \u001b[38;5;241m/\u001b[39m b\n\u001b[0;32m     16\u001b[0m     \u001b[38;5;28;01mexcept\u001b[39;00m \u001b[38;5;167;01mZeroDivisionError\u001b[39;00m:\n\u001b[0;32m     17\u001b[0m         \u001b[38;5;28mprint\u001b[39m(\u001b[38;5;124m\"\u001b[39m\u001b[38;5;124mCannot divide by zero!\u001b[39m\u001b[38;5;124m\"\u001b[39m)\n",
      "\u001b[1;31mZeroDivisionError\u001b[0m: division by zero"
     ]
    }
   ],
   "source": [
    "'''\n",
    "try and else:\n",
    "The else block can be used along with try-except. It runs only if the try block does not raise an exception.\n",
    "\n",
    "finally:\n",
    "The finally block is executed no matter what, whether an exception occurs or not. It is generally used to perform cleanup actions.\n",
    "\n",
    "raise:\n",
    "The raise statement is used to manually trigger an exception.\n",
    "'''\n",
    "# try-else-finally-raise example\n",
    "\n",
    "def divide(a, b):\n",
    "    try:\n",
    "        result = a / b\n",
    "    except ZeroDivisionError:\n",
    "        print(\"Cannot divide by zero!\")\n",
    "        raise  # Re-raise the exception to indicate a critical error\n",
    "    else:\n",
    "        print(\"Division successful:\", result)\n",
    "    finally:\n",
    "        print(\"Execution finished\")\n",
    "\n",
    "# Test cases\n",
    "divide(10, 2)  # Will go through else block\n",
    "divide(10, 0)  # Will raise exception and print finally\n"
   ]
  },
  {
   "cell_type": "code",
   "execution_count": null,
   "id": "e5c62f6d-0c56-4371-a2f0-284965fde230",
   "metadata": {},
   "outputs": [],
   "source": []
  },
  {
   "cell_type": "markdown",
   "id": "1934a3c8-267b-4265-bc73-317969e899ea",
   "metadata": {},
   "source": [
    "Q5. What are Custom Exceptions in Python? Why do we need Custom Exceptions? Explain with an example."
   ]
  },
  {
   "cell_type": "code",
   "execution_count": 22,
   "id": "03a14c59-de62-4140-ad12-18c5f486eb18",
   "metadata": {},
   "outputs": [
    {
     "name": "stdout",
     "output_type": "stream",
     "text": [
      "Invalid Age: 15. Age must be between 18 and 60.\n"
     ]
    }
   ],
   "source": [
    "'''Custom Exceptions:\n",
    "Custom exceptions are user-defined exceptions. They are created by inheriting from Python’s built-in Exception class. Custom exceptions provide a way to add specific exception handling logic for cases that aren't covered by standard exceptions.\n",
    "\n",
    "Why Custom Exceptions?\n",
    "\n",
    "To define your own rules for what constitutes an error in your application.\n",
    "To make error reporting more meaningful by creating specific exception classes.'''\n",
    "# Custom Exception Class\n",
    "class InvalidAgeError(Exception):\n",
    "    def __init__(self, age):\n",
    "        self.age = age\n",
    "        super().__init__(f\"Invalid Age: {self.age}. Age must be between 18 and 60.\")\n",
    "\n",
    "def check_age(age):\n",
    "    if age < 18 or age > 60:\n",
    "        raise InvalidAgeError(age)\n",
    "    else:\n",
    "        print(\"Age is valid.\")\n",
    "\n",
    "# Test case\n",
    "try:\n",
    "    check_age(15)  # This will raise the custom exception\n",
    "except InvalidAgeError as e:\n",
    "    print(e)\n",
    "\n",
    "# Output:\n",
    "# Invalid Age: 15. Age must be between 18 and 60.\n"
   ]
  },
  {
   "cell_type": "markdown",
   "id": "21ee16d3-655f-4948-8dd6-7a6133ef3e87",
   "metadata": {},
   "source": [
    "Q6. Create a Custom Exception Class and Use it to Handle an Exception in Python."
   ]
  },
  {
   "cell_type": "code",
   "execution_count": 25,
   "id": "79a0848a-0c45-4d29-8482-e8da5e8be8a6",
   "metadata": {},
   "outputs": [
    {
     "name": "stdout",
     "output_type": "stream",
     "text": [
      "Invalid Input: -5 is a negative number!\n"
     ]
    }
   ],
   "source": [
    "# Custom exception class\n",
    "class NegativeNumberError(Exception):\n",
    "    def __init__(self, number):\n",
    "        self.number = number\n",
    "        super().__init__(f\"Invalid Input: {self.number} is a negative number!\")\n",
    "\n",
    "# Function to check if number is positive\n",
    "def check_positive(number):\n",
    "    if number < 0:\n",
    "        raise NegativeNumberError(number)\n",
    "    else:\n",
    "        print(f\"{number} is a positive number.\")\n",
    "\n",
    "# Test case\n",
    "try:\n",
    "    check_positive(-5)  # This will raise the custom exception\n",
    "except NegativeNumberError as e:\n",
    "    print(e)\n",
    "\n",
    "# Output:\n",
    "# Invalid Input: -5 is a negative number!\n"
   ]
  },
  {
   "cell_type": "code",
   "execution_count": null,
   "id": "d354bf30-4719-4656-9d8f-789d1e2c484b",
   "metadata": {},
   "outputs": [],
   "source": []
  }
 ],
 "metadata": {
  "kernelspec": {
   "display_name": "Python 3 (ipykernel)",
   "language": "python",
   "name": "python3"
  },
  "language_info": {
   "codemirror_mode": {
    "name": "ipython",
    "version": 3
   },
   "file_extension": ".py",
   "mimetype": "text/x-python",
   "name": "python",
   "nbconvert_exporter": "python",
   "pygments_lexer": "ipython3",
   "version": "3.12.4"
  }
 },
 "nbformat": 4,
 "nbformat_minor": 5
}
